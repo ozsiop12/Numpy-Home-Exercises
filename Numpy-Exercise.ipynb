{
 "cells": [
  {
   "cell_type": "code",
   "execution_count": 78,
   "id": "c7d4e580-6134-44a7-af42-510303408eed",
   "metadata": {},
   "outputs": [],
   "source": [
    "import numpy as np\n",
    "import random"
   ]
  },
  {
   "cell_type": "code",
   "execution_count": 2,
   "id": "f6ec4676-8412-4fab-a0ee-1b77a8211348",
   "metadata": {},
   "outputs": [
    {
     "name": "stdout",
     "output_type": "stream",
     "text": [
      "[180 284 201]\n",
      "[105 178 243 139]\n",
      "665\n",
      "[[14 72 19]\n",
      " [50 86 42]\n",
      " [79 84 80]\n",
      " [37 42 60]]\n"
     ]
    }
   ],
   "source": [
    "array = np.random.randint(10, 99, size=(4, 3))\n",
    "row_sum = array.sum(axis=1)\n",
    "column_sum = 0\n",
    "for col in array:\n",
    "    column_sum +=col\n",
    "total_sum = array.sum()\n",
    "print (column_sum)\n",
    "print (row_sum)\n",
    "print (total_sum)\n",
    "print (array)"
   ]
  },
  {
   "cell_type": "markdown",
   "id": "7962a0ca-badb-4689-920f-affa2c868000",
   "metadata": {},
   "source": [
    "### Code Explanation\n",
    "\n",
    "This code performs the following steps:\n",
    "\n",
    "1. **Create a Random 4x3 Array**: \n",
    "   - A 4x3 array of random numbers between 10 and 98 is created.\n",
    "\n",
    "2. **Sum of Each Row**: \n",
    "   - The sum of the numbers in each row of the array is calculated.\n",
    "\n",
    "3. **Sum of Each Column**: \n",
    "   - A loop is used to calculate the sum of each column in the array.\n",
    "\n",
    "4. **Total Sum of All Elements**: \n",
    "   - The sum of all the numbers in the entire array is calculated.\n",
    "\n",
    "5. **Print Results**:\n",
    "   - The program prints the sum of each column, the sum of each row, the total sum of all elements, and the array itself.\n",
    "\n",
    "i also used multiple methods to calculate the sum, i did this because calculating the column with a for command is easy.\n"
   ]
  },
  {
   "cell_type": "code",
   "execution_count": 4,
   "id": "90ed9a05-2afa-4675-96b4-9b47fa75d0bb",
   "metadata": {},
   "outputs": [
    {
     "name": "stdout",
     "output_type": "stream",
     "text": [
      "[4 6 5 1 4 3 9 0 1 0]\n",
      "5\n"
     ]
    }
   ],
   "source": [
    "array = np.random.randint(0, 10, size=(10))\n",
    "count = 0\n",
    "for i in array:\n",
    "    if i%2==0:\n",
    "        count+=1\n",
    "print (array)\n",
    "print (count)"
   ]
  },
  {
   "cell_type": "markdown",
   "id": "699c9187-7212-4d18-b850-5ccb97a7ea87",
   "metadata": {},
   "source": [
    "### Code Explanation\n",
    "\n",
    "this simple code creates a single dimension array with range of 10.\n",
    "\n",
    "i then simply count the amount of even numbers, for this case im including 0 as an even number."
   ]
  },
  {
   "cell_type": "code",
   "execution_count": 29,
   "id": "24d84cda-1f5d-4a00-8a50-47ca639cbdff",
   "metadata": {},
   "outputs": [
    {
     "name": "stdout",
     "output_type": "stream",
     "text": [
      "base array\n",
      "[ 0  1  2  3  4  5  6  7  8  9 10 11 12 13 14 15 16 17 18 19 20 21 22 23\n",
      " 24 25 26 27 28 29 30 31 32 33 34 35 36 37 38 39 40 41 42 43 44 45 46 47\n",
      " 48 49 50 51 52 53 54 55 56 57 58 59 60 61 62 63 64 65 66 67 68 69 70 71\n",
      " 72 73 74 75 76 77 78 79 80 81 82 83 84 85 86 87 88 89 90 91 92 93 94 95\n",
      " 96 97 98 99]\n",
      "reshaped array\n",
      "[[ 0  1  2  3  4  5  6  7  8  9]\n",
      " [10 11 12 13 14 15 16 17 18 19]\n",
      " [20 21 22 23 24 25 26 27 28 29]\n",
      " [30 31 32 33 34 35 36 37 38 39]\n",
      " [40 41 42 43 44 45 46 47 48 49]\n",
      " [50 51 52 53 54 55 56 57 58 59]\n",
      " [60 61 62 63 64 65 66 67 68 69]\n",
      " [70 71 72 73 74 75 76 77 78 79]\n",
      " [80 81 82 83 84 85 86 87 88 89]\n",
      " [90 91 92 93 94 95 96 97 98 99]]\n",
      "new array with higher than 50 numbers replaced with -1\n",
      "[ 0  1  2  3  4  5  6  7  8  9 10 11 12 13 14 15 16 17 18 19 20 21 22 23\n",
      " 24 25 26 27 28 29 30 31 32 33 34 35 36 37 38 39 40 41 42 43 44 45 46 47\n",
      " 48 49 50 -1 -1 -1 -1 -1 -1 -1 -1 -1 -1 -1 -1 -1 -1 -1 -1 -1 -1 -1 -1 -1\n",
      " -1 -1 -1 -1 -1 -1 -1 -1 -1 -1 -1 -1 -1 -1 -1 -1 -1 -1 -1 -1 -1 -1 -1 -1\n",
      " -1 -1 -1 -1]\n",
      "4950\n",
      "49.5\n"
     ]
    }
   ],
   "source": [
    "array = np.arange(100)\n",
    "reshape = array.reshape(10,10)\n",
    "print (\"base array\")\n",
    "print (array)\n",
    "print (\"reshaped array\")\n",
    "print (reshape)\n",
    "copy_array = array.copy()\n",
    "for i in copy_array:\n",
    "    if i >50:\n",
    "        copy_array[i] = -1\n",
    "print (\"new array with higher than 50 numbers replaced with -1\")\n",
    "print (copy_array)\n",
    "sum = array.sum()\n",
    "print (sum)\n",
    "mean = array.mean()\n",
    "print (mean)"
   ]
  },
  {
   "cell_type": "markdown",
   "id": "7892faee-a2a6-4826-9c9d-4c5e3f0ce6b7",
   "metadata": {},
   "source": [
    "\n",
    "### simply i used existing methods to do all this.\n",
    "\n",
    "### i added a text between the prints of the arrays becuase it was very hard to read without it.\n"
   ]
  },
  {
   "cell_type": "code",
   "execution_count": 62,
   "id": "d62e8f7b-2a6f-4dcf-b854-c13918d21526",
   "metadata": {},
   "outputs": [
    {
     "name": "stdout",
     "output_type": "stream",
     "text": [
      "[ 10  20  30  40  50  60  70  80  90 100]\n",
      "[ 10  60  70  80  90 100]\n",
      "[[ 10  60  70]\n",
      " [ 80  90 100]]\n"
     ]
    }
   ],
   "source": [
    "array = np.array([10,20,30,40,50,60,70,80,90,100])\n",
    "temp_array = np.array([], dtype=int)\n",
    "print (array)\n",
    "for i in array:\n",
    "    if i <20 or i>50:\n",
    "        temp_array = np.append(temp_array,i)\n",
    "print (temp_array)\n",
    "reshape = temp_array.reshape(2,3)\n",
    "print (reshape)"
   ]
  },
  {
   "cell_type": "markdown",
   "id": "3434a742-30f6-42d1-9d61-3111a0c47b15",
   "metadata": {},
   "source": [
    "### i had to take a lot of liberties with the questions since i did not understand exactly what the question was asking.\n",
    "\n",
    "in the base array i just made numbers from 10 to 100 since they have the same space between them, im not sure if the question asked for a random number or if the list even needs to reach 100 or if its just up to 100.\n",
    "\n",
    "with this basis i simply created a temp array for the lower than 20 higher than 50, and a new array for the reshape which i assumed meant any shape for the array with the less than 20 more than 50, because its the only array that changes sizes.\n"
   ]
  },
  {
   "cell_type": "code",
   "execution_count": 92,
   "id": "aabc294d-1ec0-4b7b-b02f-505fcf2ee4a7",
   "metadata": {},
   "outputs": [
    {
     "name": "stdout",
     "output_type": "stream",
     "text": [
      "[[37  0  0  0]\n",
      " [ 0  0  0  0]\n",
      " [ 0  0 54  0]\n",
      " [ 0  0  0 39]]\n",
      "4\n"
     ]
    }
   ],
   "source": [
    "array = np.zeros((4, 4), dtype=int)\n",
    "array[0][0] = random.randint(0,100)\n",
    "array[2][2] = random.randint(0,100)\n",
    "array[3][3] = random.randint(0,100)\n",
    "print(array)"
   ]
  },
  {
   "cell_type": "markdown",
   "id": "6c2c6eb9-fd58-48c6-a340-8e0cbfa28fd6",
   "metadata": {},
   "source": []
  }
 ],
 "metadata": {
  "kernelspec": {
   "display_name": "Python [conda env:base] *",
   "language": "python",
   "name": "conda-base-py"
  },
  "language_info": {
   "codemirror_mode": {
    "name": "ipython",
    "version": 3
   },
   "file_extension": ".py",
   "mimetype": "text/x-python",
   "name": "python",
   "nbconvert_exporter": "python",
   "pygments_lexer": "ipython3",
   "version": "3.12.7"
  }
 },
 "nbformat": 4,
 "nbformat_minor": 5
}
